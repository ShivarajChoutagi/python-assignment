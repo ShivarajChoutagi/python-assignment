{
 "cells": [
  {
   "cell_type": "code",
   "execution_count": 1,
   "id": "161713d9",
   "metadata": {},
   "outputs": [
    {
     "data": {
      "text/plain": [
       "'\\n* =Multiplication operator\\n&=and operator\\n\"hello\"=string\\n-87.8=float number\\n- =substraction operator\\n/ = division operator\\n+ = concatination operator\\n6 =integer value\\n'"
      ]
     },
     "execution_count": 1,
     "metadata": {},
     "output_type": "execute_result"
    }
   ],
   "source": [
    "#1. In the below elements which of them are values or an expression? eg:- values can be integer or string and expressions will be mathematical operators.\n",
    "\"\"\"\n",
    "* =Multiplication operator\n",
    "&=and operator\n",
    "\"hello\"=string\n",
    "-87.8=float number\n",
    "- =substraction operator\n",
    "/ = division operator\n",
    "+ = concatination operator\n",
    "6 =integer value\n",
    "\"\"\""
   ]
  },
  {
   "cell_type": "code",
   "execution_count": 4,
   "id": "7d1fc30c",
   "metadata": {},
   "outputs": [
    {
     "data": {
      "text/plain": [
       "'Variables are symbols that you can use to store data in a program. You can think of them as an empty box that you fill with some data or value. Strings are data, so we can use them to fill up a variable.\\nEx:\\nString x =\"Welcome to SoloLearn\"\\nX is the Variable, and we declared it as a String, use the single = to assign the text to it.'"
      ]
     },
     "execution_count": 4,
     "metadata": {},
     "output_type": "execute_result"
    }
   ],
   "source": [
    "#2. What is the difference between string and variable?\n",
    "\"\"\"Variables are symbols that you can use to store data in a program. You can think of them as an empty box that you fill with some data or value. Strings are data, so we can use them to fill up a variable.\n",
    "Ex:\n",
    "String x =\"Welcome to SoloLearn\"\n",
    "X is the Variable, and we declared it as a String, use the single = to assign the text to it.\"\"\""
   ]
  },
  {
   "cell_type": "code",
   "execution_count": 5,
   "id": "a4cc464f",
   "metadata": {},
   "outputs": [
    {
     "data": {
      "text/plain": [
       "'\\nA variable can hold different types of values. For example, a person\\'s name must be stored as a string whereas its id must be stored as an integer.\\n\\nPython provides various standard data types that define the storage method on each of them. The data types defined in Python are given below.\\n\\n1.Numbers\\n2.Sequence Type\\n3.Boolean\\n4.Set\\n5.Dictionary\\n\\n\\n1.Numbers\\nNumber stores numeric values. The integer, float, and complex values belong to a Python Numbers data-type. \\n\\nA.Int - Integer value can be any length such as integers 10, 2, 29, -20, -150 etc. Python has no restriction on the length of an integer. Its value belongs to int\\nB.Float - Float is used to store floating-point numbers like 1.9, 9.902, 15.2, etc. It is accurate upto 15 decimal points.\\nC.complex - A complex number contains an ordered pair, i.e., x + iy where x and y denote the real and imaginary parts, respectively. The complex numbers like 2.14j, 2.0 + 2.3j, etc.\\n\\n\\n2.Sequence Type\\nA.Strings\\nThe string can be defined as the sequence of characters represented in the quotation marks. In Python, we can use single, double, or triple quotes to define a string.\\nIn the case of string handling, the operator + is used to concatenate two strings as the operation \"hello\"+\" python\" returns \"hello python\".\\n\\nB.List\\nPython Lists are similar to arrays in C. However, the list can contain data of different types. The items stored in the list are separated with a comma (,) and enclosed within square brackets [].\\nWe can use slice [:] operators to access the data of the list. The concatenation operator (+) and repetition operator (*) works with the list in the same way as they were working with the strings.\\n\\nC.Tuple\\nA tuple is similar to the list in many ways. Like lists, tuples also contain the collection of the items of different data types. The items of the tuple are separated with a comma (,) and enclosed in parentheses ().\\nA tuple is a read-only data structure as we can\\'t modify the size and value of the items of a tuple.\\n\\nD.Dictionary\\nDictionary is an unordered set of a key-value pair of items. It is like an associative array or a hash table where each key stores a specific value. Key can hold any primitive data type, whereas value is an arbitrary Python object.\\nThe items in the dictionary are separated with the comma (,) and enclosed in the curly braces {}.\\n\\nE.Boolean\\nBoolean type provides two built-in values, True and False. These values are used to determine the given statement true or false. It denotes by the class bool. True can be represented by any non-zero value or \\'T\\' whereas false can be represented by the 0 or \\'F\\'. Consider the following example.\\n\\nF.Set\\nPython Set is the unordered collection of the data type. It is iterable, mutable(can modify after creation), and has unique elements. In set, the order of the elements is undefined; it may return the changed sequence of the element. The set is created by using a built-in function set(), or a sequence of elements is passed in the curly braces and separated by the comma. It can contain various types of values. Consider the following example.\\n'"
      ]
     },
     "execution_count": 5,
     "metadata": {},
     "output_type": "execute_result"
    }
   ],
   "source": [
    "#3. Describe three different data types.\n",
    "\"\"\"\n",
    "A variable can hold different types of values. For example, a person's name must be stored as a string whereas its id must be stored as an integer.\n",
    "\n",
    "Python provides various standard data types that define the storage method on each of them. The data types defined in Python are given below.\n",
    "\n",
    "1.Numbers\n",
    "2.Sequence Type\n",
    "3.Boolean\n",
    "4.Set\n",
    "5.Dictionary\n",
    "\n",
    "\n",
    "1.Numbers\n",
    "Number stores numeric values. The integer, float, and complex values belong to a Python Numbers data-type. \n",
    "\n",
    "A.Int - Integer value can be any length such as integers 10, 2, 29, -20, -150 etc. Python has no restriction on the length of an integer. Its value belongs to int\n",
    "B.Float - Float is used to store floating-point numbers like 1.9, 9.902, 15.2, etc. It is accurate upto 15 decimal points.\n",
    "C.complex - A complex number contains an ordered pair, i.e., x + iy where x and y denote the real and imaginary parts, respectively. The complex numbers like 2.14j, 2.0 + 2.3j, etc.\n",
    "\n",
    "\n",
    "2.Sequence Type\n",
    "A.Strings\n",
    "The string can be defined as the sequence of characters represented in the quotation marks. In Python, we can use single, double, or triple quotes to define a string.\n",
    "In the case of string handling, the operator + is used to concatenate two strings as the operation \"hello\"+\" python\" returns \"hello python\".\n",
    "\n",
    "B.List\n",
    "Python Lists are similar to arrays in C. However, the list can contain data of different types. The items stored in the list are separated with a comma (,) and enclosed within square brackets [].\n",
    "We can use slice [:] operators to access the data of the list. The concatenation operator (+) and repetition operator (*) works with the list in the same way as they were working with the strings.\n",
    "\n",
    "C.Tuple\n",
    "A tuple is similar to the list in many ways. Like lists, tuples also contain the collection of the items of different data types. The items of the tuple are separated with a comma (,) and enclosed in parentheses ().\n",
    "A tuple is a read-only data structure as we can't modify the size and value of the items of a tuple.\n",
    "\n",
    "D.Dictionary\n",
    "Dictionary is an unordered set of a key-value pair of items. It is like an associative array or a hash table where each key stores a specific value. Key can hold any primitive data type, whereas value is an arbitrary Python object.\n",
    "The items in the dictionary are separated with the comma (,) and enclosed in the curly braces {}.\n",
    "\n",
    "E.Boolean\n",
    "Boolean type provides two built-in values, True and False. These values are used to determine the given statement true or false. It denotes by the class bool. True can be represented by any non-zero value or 'T' whereas false can be represented by the 0 or 'F'. Consider the following example.\n",
    "\n",
    "F.Set\n",
    "Python Set is the unordered collection of the data type. It is iterable, mutable(can modify after creation), and has unique elements. In set, the order of the elements is undefined; it may return the changed sequence of the element. The set is created by using a built-in function set(), or a sequence of elements is passed in the curly braces and separated by the comma. It can contain various types of values. Consider the following example.\n",
    "\"\"\""
   ]
  },
  {
   "cell_type": "code",
   "execution_count": 6,
   "id": "973b385f",
   "metadata": {},
   "outputs": [
    {
     "data": {
      "text/plain": [
       "'\\nAn expression is a combination of operators and operands that is interpreted to produce some other value. \\nIn any programming language, an expression is evaluated as per the precedence of its operators.\\n\\n\\n1. Constant Expressions: These are the expressions that have constant values only.\\n# Constant Expressions\\nx = 15 + 1.3\\n  \\nprint(x)\\n\\n2. Arithmetic Expressions: An arithmetic expression is a combination of numeric values, operators, and sometimes parenthesis. \\nThe result of this type of expression is also a numeric value. The operators used in these expressions are arithmetic operators like addition, subtraction, etc. \\nHere are some arithmetic operators in Python:\\n\\nOperators\\tSyntax\\tFunctioning\\n+\\tx + y\\tAddition\\n–\\tx – y\\tSubtraction\\n*\\tx * y\\tMultiplication\\n/\\tx / y\\tDivision\\n//\\tx // y\\tQuotient\\n%\\tx % y\\tRemainder\\n**\\tx ** y\\tExponentiation \\n\\n3. Integral Expressions: These are the kind of expressions that produce only integer results after all computations and type conversions.\\n# Integral Expressions\\na = 13\\nb = 12.0\\n  \\nc = a + int(b)\\nprint(c)\\n\\n4. Floating Expressions: These are the kind of expressions which produce floating point numbers as result after all computations and type conversions.\\n# Floating Expressions\\na = 13\\nb = 5\\n  \\nc = a / b\\nprint(c)\\n\\n5. Relational Expressions: In these types of expressions, arithmetic expressions are written on both sides of relational operator (> , < , >= , <=). Those arithmetic expressions are evaluated first, and then compared as per relational operator and produce a boolean output in the end. \\nThese expressions are also called Boolean expressions.\\n# Relational Expressions\\na = 21\\nb = 13\\nc = 40\\nd = 37\\n  \\np = (a + b) >= (c - d)\\nprint(p)\\n\\n6. Logical Expressions: These are kinds of expressions that result in either True or False. It basically specifies one or more conditions. \\nFor example, (10 == 9) is a condition if 10 is equal to 9. As we know it is not correct, so it will return False. \\nStudying logical expressions, we also come across some logical operators which can be seen in logical expressions most often. Here are some logical operators in Python:\\n\\nP = (10 == 9)\\nQ = (7 > 5)\\n  \\n# Logical Expressions\\nR = P and Q\\nS = P or Q\\nT = not P\\n  \\nprint(R)\\nprint(S)\\nprint(T)\\n\\n7. Bitwise Expressions: These are the kind of expressions in which computations are performed at bit level.\\n# Bitwise Expressions\\na = 12\\n  \\nx = a >> 2\\ny = a << 1\\n  \\nprint(x, y)\\n\\n8. Combinational Expressions: We can also use different types of expressions in a single expression, \\nand that will be termed as combinational expressions.\\n\\n# Combinational Expressions\\na = 16\\nb = 12\\n  \\nc = a + (b >> 1)\\nprint(c)\\n\\n'"
      ]
     },
     "execution_count": 6,
     "metadata": {},
     "output_type": "execute_result"
    }
   ],
   "source": [
    "#4. What is an expression made up of? What do all expressions do?\n",
    "\"\"\"\n",
    "An expression is a combination of operators and operands that is interpreted to produce some other value. \n",
    "In any programming language, an expression is evaluated as per the precedence of its operators.\n",
    "\n",
    "\n",
    "1. Constant Expressions: These are the expressions that have constant values only.\n",
    "# Constant Expressions\n",
    "x = 15 + 1.3\n",
    "  \n",
    "print(x)\n",
    "\n",
    "2. Arithmetic Expressions: An arithmetic expression is a combination of numeric values, operators, and sometimes parenthesis. \n",
    "The result of this type of expression is also a numeric value. The operators used in these expressions are arithmetic operators like addition, subtraction, etc. \n",
    "Here are some arithmetic operators in Python:\n",
    "\n",
    "Operators\tSyntax\tFunctioning\n",
    "+\tx + y\tAddition\n",
    "–\tx – y\tSubtraction\n",
    "*\tx * y\tMultiplication\n",
    "/\tx / y\tDivision\n",
    "//\tx // y\tQuotient\n",
    "%\tx % y\tRemainder\n",
    "**\tx ** y\tExponentiation \n",
    "\n",
    "3. Integral Expressions: These are the kind of expressions that produce only integer results after all computations and type conversions.\n",
    "# Integral Expressions\n",
    "a = 13\n",
    "b = 12.0\n",
    "  \n",
    "c = a + int(b)\n",
    "print(c)\n",
    "\n",
    "4. Floating Expressions: These are the kind of expressions which produce floating point numbers as result after all computations and type conversions.\n",
    "# Floating Expressions\n",
    "a = 13\n",
    "b = 5\n",
    "  \n",
    "c = a / b\n",
    "print(c)\n",
    "\n",
    "5. Relational Expressions: In these types of expressions, arithmetic expressions are written on both sides of relational operator (> , < , >= , <=). Those arithmetic expressions are evaluated first, and then compared as per relational operator and produce a boolean output in the end. \n",
    "These expressions are also called Boolean expressions.\n",
    "# Relational Expressions\n",
    "a = 21\n",
    "b = 13\n",
    "c = 40\n",
    "d = 37\n",
    "  \n",
    "p = (a + b) >= (c - d)\n",
    "print(p)\n",
    "\n",
    "6. Logical Expressions: These are kinds of expressions that result in either True or False. It basically specifies one or more conditions. \n",
    "For example, (10 == 9) is a condition if 10 is equal to 9. As we know it is not correct, so it will return False. \n",
    "Studying logical expressions, we also come across some logical operators which can be seen in logical expressions most often. Here are some logical operators in Python:\n",
    "\n",
    "P = (10 == 9)\n",
    "Q = (7 > 5)\n",
    "  \n",
    "# Logical Expressions\n",
    "R = P and Q\n",
    "S = P or Q\n",
    "T = not P\n",
    "  \n",
    "print(R)\n",
    "print(S)\n",
    "print(T)\n",
    "\n",
    "7. Bitwise Expressions: These are the kind of expressions in which computations are performed at bit level.\n",
    "# Bitwise Expressions\n",
    "a = 12\n",
    "  \n",
    "x = a >> 2\n",
    "y = a << 1\n",
    "  \n",
    "print(x, y)\n",
    "\n",
    "8. Combinational Expressions: We can also use different types of expressions in a single expression, \n",
    "and that will be termed as combinational expressions.\n",
    "\n",
    "# Combinational Expressions\n",
    "a = 16\n",
    "b = 12\n",
    "  \n",
    "c = a + (b >> 1)\n",
    "print(c)\n",
    "\n",
    "\"\"\""
   ]
  },
  {
   "cell_type": "code",
   "execution_count": 7,
   "id": "e82e1043",
   "metadata": {},
   "outputs": [
    {
     "data": {
      "text/plain": [
       "'\\nAn Expression is a sequence or combination of values, variables, operators and function calls that always produces or returns a result value.\\nExample: x = 5, y = 3, z = x + y\\n\\nAny Instruction that a python interpreter can execute (carry out) is called a Statement.\\n\\nin above ex: spam=10 is expression\\n             and print(\"spam\") is statement\\n             \\n'"
      ]
     },
     "execution_count": 7,
     "metadata": {},
     "output_type": "execute_result"
    }
   ],
   "source": [
    "#5. This assignment statements, like spam = 10. What is the difference between an expression and a statement?\n",
    "\"\"\"\n",
    "An Expression is a sequence or combination of values, variables, operators and function calls that always produces or returns a result value.\n",
    "Example: x = 5, y = 3, z = x + y\n",
    "\n",
    "Any Instruction that a python interpreter can execute (carry out) is called a Statement.\n",
    "\n",
    "in above ex: spam=10 is expression\n",
    "             and print(\"spam\") is statement\n",
    "             \n",
    "\"\"\"\n"
   ]
  },
  {
   "cell_type": "code",
   "execution_count": 8,
   "id": "cddcd0df",
   "metadata": {},
   "outputs": [
    {
     "data": {
      "text/plain": [
       "23"
      ]
     },
     "execution_count": 8,
     "metadata": {},
     "output_type": "execute_result"
    }
   ],
   "source": [
    "#6. After running the following code, what does the variable bacon contain?\n",
    "bacon = 22\n",
    "bacon + 1\n",
    "\n"
   ]
  },
  {
   "cell_type": "code",
   "execution_count": 11,
   "id": "ca28299c",
   "metadata": {},
   "outputs": [
    {
     "data": {
      "text/plain": [
       "'spamspamspam'"
      ]
     },
     "execution_count": 11,
     "metadata": {},
     "output_type": "execute_result"
    }
   ],
   "source": [
    "#7. What should the values of the following two terms be?\n",
    "\"spam\"+\"spamspam\"\n",
    "\"spam\" * 3\n"
   ]
  },
  {
   "cell_type": "code",
   "execution_count": 12,
   "id": "279b3c16",
   "metadata": {},
   "outputs": [
    {
     "data": {
      "text/plain": [
       "'Variable names cannot begin with a number.'"
      ]
     },
     "execution_count": 12,
     "metadata": {},
     "output_type": "execute_result"
    }
   ],
   "source": [
    "#Why is eggs a valid variable name while 100 is invalid? \n",
    "\"\"\"Variable names cannot begin with a number.\"\"\""
   ]
  },
  {
   "cell_type": "code",
   "execution_count": 13,
   "id": "e098b802",
   "metadata": {},
   "outputs": [
    {
     "data": {
      "text/plain": [
       "'The int() , float() , and str( ) functions will evaluate to the integer, floating-point number, and string versions of the value passed to them.'"
      ]
     },
     "execution_count": 13,
     "metadata": {},
     "output_type": "execute_result"
    }
   ],
   "source": [
    "#9. What three functions can be used to get the integer, floating-point number, or string version of a value?\n",
    "\"\"\"The int() , float() , and str( ) functions will evaluate to the integer, floating-point number, and string versions of the value passed to them.\"\"\""
   ]
  },
  {
   "cell_type": "code",
   "execution_count": null,
   "id": "ce663776",
   "metadata": {},
   "outputs": [],
   "source": []
  },
  {
   "cell_type": "code",
   "execution_count": 15,
   "id": "41702b02",
   "metadata": {},
   "outputs": [
    {
     "data": {
      "text/plain": [
       "'I have eaten 99burritos.'"
      ]
     },
     "execution_count": 15,
     "metadata": {},
     "output_type": "execute_result"
    }
   ],
   "source": [
    "#10. Why does this expression cause an error? How can you fix it?\n",
    "#\"I have eaten \"+ 99 +\"burritos.\"\n",
    "\"\"\"\n",
    "bcoz it can only concat str() not int in this condition,by converting int to str we can concat shown below\n",
    "\n",
    "\"\"\"\n",
    "\"I have eaten \"+ \"99\" +\"burritos.\"\n"
   ]
  },
  {
   "cell_type": "code",
   "execution_count": null,
   "id": "f1c19dbf",
   "metadata": {},
   "outputs": [],
   "source": []
  }
 ],
 "metadata": {
  "kernelspec": {
   "display_name": "Python 3 (ipykernel)",
   "language": "python",
   "name": "python3"
  },
  "language_info": {
   "codemirror_mode": {
    "name": "ipython",
    "version": 3
   },
   "file_extension": ".py",
   "mimetype": "text/x-python",
   "name": "python",
   "nbconvert_exporter": "python",
   "pygments_lexer": "ipython3",
   "version": "3.9.12"
  }
 },
 "nbformat": 4,
 "nbformat_minor": 5
}
