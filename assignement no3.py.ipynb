{
 "cells": [
  {
   "cell_type": "code",
   "execution_count": 1,
   "id": "61a98828",
   "metadata": {},
   "outputs": [
    {
     "data": {
      "text/plain": [
       "'Functions reduce the need for duplicate code. This makes programs shorter, easier to read, and easier to update.'"
      ]
     },
     "execution_count": 1,
     "metadata": {},
     "output_type": "execute_result"
    }
   ],
   "source": [
    "#1. Why are functions advantageous to have in your programs?\n",
    "\"\"\"Functions reduce the need for duplicate code. This makes programs shorter, easier to read, and easier to update.\"\"\""
   ]
  },
  {
   "cell_type": "code",
   "execution_count": 2,
   "id": "d06f7969",
   "metadata": {},
   "outputs": [
    {
     "data": {
      "text/plain": [
       "'Code in the function runs when the function is called'"
      ]
     },
     "execution_count": 2,
     "metadata": {},
     "output_type": "execute_result"
    }
   ],
   "source": [
    "#2. When does the code in a function run: when it&#39;s specified or when it&#39;s called?\n",
    "\n",
    "\"\"\"Code in the function runs when the function is called\"\"\""
   ]
  },
  {
   "cell_type": "code",
   "execution_count": 3,
   "id": "af4437be",
   "metadata": {},
   "outputs": [
    {
     "data": {
      "text/plain": [
       "'  The def statement defines (i.e. creates) a function.'"
      ]
     },
     "execution_count": 3,
     "metadata": {},
     "output_type": "execute_result"
    }
   ],
   "source": [
    "#3. What statement creates a function?\n",
    "\"\"\"  The def statement defines (i.e. creates) a function.\"\"\""
   ]
  },
  {
   "cell_type": "code",
   "execution_count": 4,
   "id": "516c6496",
   "metadata": {},
   "outputs": [
    {
     "data": {
      "text/plain": [
       "\"A function consists of the def statement and the code in its def clause.\\n\\nA function call is what moves the program execution into the function, and the function call evaluates to the function's return value.\""
      ]
     },
     "execution_count": 4,
     "metadata": {},
     "output_type": "execute_result"
    }
   ],
   "source": [
    "#Q4. What is the difference between a function and a function call?\n",
    "\n",
    "#def of func\n",
    "def my_func(): \n",
    "    pass \n",
    "my_func() #calling of function\n",
    "\"\"\"A function consists of the def statement and the code in its def clause.\n",
    "\n",
    "A function call is what moves the program execution into the function, and the function call evaluates to the function's return value.\"\"\""
   ]
  },
  {
   "cell_type": "code",
   "execution_count": 5,
   "id": "e642f3c9",
   "metadata": {},
   "outputs": [
    {
     "data": {
      "text/plain": [
       "\"There's only one global Python scope per program execution. This scope remains in existence until the program terminates , and a local scope is created whenever a function is called.\""
      ]
     },
     "execution_count": 5,
     "metadata": {},
     "output_type": "execute_result"
    }
   ],
   "source": [
    "#Q5. How many global scopes are there in a Python program? How many local scopes?\n",
    "\"\"\"There's only one global Python scope per program execution. This scope remains in existence until the program terminates , and a local scope is created whenever a function is called.\"\"\""
   ]
  },
  {
   "cell_type": "code",
   "execution_count": 7,
   "id": "9f5b5a36",
   "metadata": {},
   "outputs": [
    {
     "data": {
      "text/plain": [
       "'Ans. When a function returns, the local scope is destroyed'"
      ]
     },
     "execution_count": 7,
     "metadata": {},
     "output_type": "execute_result"
    }
   ],
   "source": [
    "#Q6. What happens to variables in a local scope when the function call returns?\n",
    "\n",
    "\"\"\"Ans. When a function returns, the local scope is destroyed\"\"\"\n"
   ]
  },
  {
   "cell_type": "code",
   "execution_count": 8,
   "id": "80bab2ed",
   "metadata": {},
   "outputs": [
    {
     "data": {
      "text/plain": [
       "'A return value is the value that a function call evaluates to. Like any value, a return value can be used as part of an expression.'"
      ]
     },
     "execution_count": 8,
     "metadata": {},
     "output_type": "execute_result"
    }
   ],
   "source": [
    "#Q7. What is the concept of a return value? Is it possible to have a return value in an expression?\n",
    "\n",
    "\"\"\"A return value is the value that a function call evaluates to. Like any value, a return value can be used as part of an expression.\"\"\""
   ]
  },
  {
   "cell_type": "code",
   "execution_count": 10,
   "id": "2231cec0",
   "metadata": {},
   "outputs": [
    {
     "data": {
      "text/plain": [
       "'If the funtion does not have a return statement it will not return anything.'"
      ]
     },
     "execution_count": 10,
     "metadata": {},
     "output_type": "execute_result"
    }
   ],
   "source": [
    "#Q8. If a function does not have a return statement, what is the return value of a call to that function?\n",
    "\n",
    "\"\"\"If the funtion does not have a return statement it will not return anything.\"\"\""
   ]
  },
  {
   "cell_type": "code",
   "execution_count": 11,
   "id": "65f84038",
   "metadata": {},
   "outputs": [
    {
     "data": {
      "text/plain": [
       "'Ans. To make function variable as a global variable you can use the global keyword to declare which variables are global.'"
      ]
     },
     "execution_count": 11,
     "metadata": {},
     "output_type": "execute_result"
    }
   ],
   "source": [
    "#Q9. How do you make a function variable refer to the global variable?\n",
    "\n",
    "\"\"\"Ans. To make function variable as a global variable you can use the global keyword to declare which variables are global.\"\"\""
   ]
  },
  {
   "cell_type": "code",
   "execution_count": 12,
   "id": "74f0d7ae",
   "metadata": {},
   "outputs": [
    {
     "data": {
      "text/plain": [
       "'Ans . The data type of None is NoneType.'"
      ]
     },
     "execution_count": 12,
     "metadata": {},
     "output_type": "execute_result"
    }
   ],
   "source": [
    "#Q10. What is the data type of None?\n",
    "\n",
    "\"\"\"Ans . The data type of None is NoneType.\"\"\""
   ]
  },
  {
   "cell_type": "code",
   "execution_count": 14,
   "id": "fa67eb6d",
   "metadata": {},
   "outputs": [
    {
     "data": {
      "text/plain": [
       "'.That import statement imports a module named areallyourpetsnamederic. (But a module of this name doesnt exists in Python)'"
      ]
     },
     "execution_count": 14,
     "metadata": {},
     "output_type": "execute_result"
    }
   ],
   "source": [
    "#Q11. What does the sentence import areallyourpetsnamederic do?\n",
    "\n",
    "\"\"\".That import statement imports a module named areallyourpetsnamederic. (But a module of this name doesnt exists in Python)\"\"\""
   ]
  },
  {
   "cell_type": "code",
   "execution_count": 18,
   "id": "3fa8a821",
   "metadata": {},
   "outputs": [
    {
     "data": {
      "text/plain": [
       "'#import spam\\n#spam.bacon()'"
      ]
     },
     "execution_count": 18,
     "metadata": {},
     "output_type": "execute_result"
    }
   ],
   "source": [
    "#Q12. If you had a bacon() feature in a spam module, what would you call it after importing spam?\n",
    "\n",
    "\"\"\"#import spam\n",
    "#spam.bacon()\"\"\""
   ]
  },
  {
   "cell_type": "code",
   "execution_count": 19,
   "id": "032cb2c9",
   "metadata": {},
   "outputs": [
    {
     "data": {
      "text/plain": [
       "'Ans. We can use try except clause to save a program from crashing.'"
      ]
     },
     "execution_count": 19,
     "metadata": {},
     "output_type": "execute_result"
    }
   ],
   "source": [
    "#Q13. What can you do to save a programme from crashing if it encounters an error?\n",
    "\n",
    "\"\"\"Ans. We can use try except clause to save a program from crashing.\"\"\""
   ]
  },
  {
   "cell_type": "code",
   "execution_count": 22,
   "id": "aa93f1c8",
   "metadata": {},
   "outputs": [
    {
     "data": {
      "text/plain": [
       "'Eg. \\ntry:\\n\\n# Code <br>\\nexcept:\\n\\n# Executed if error in the<br>\\n# try block'"
      ]
     },
     "execution_count": 22,
     "metadata": {},
     "output_type": "execute_result"
    }
   ],
   "source": [
    "#Q14. What is the purpose of the try clause? What is the purpose of the except clause?\n",
    "\n",
    "\"\"\"Ans. Try and Except clause is used to handle the errors within our code . The try block is used to check some code for errors i.e the code inside the try block will execute when there is no error in the program. Whereas the code inside the except block will execute whenever the program encounters some error in the try block.\"\"\"\n",
    "\n",
    "\"\"\"Eg. \n",
    "try:\n",
    "\n",
    "# Code <br>\n",
    "except:\n",
    "\n",
    "# Executed if error in the<br>\n",
    "# try block\"\"\""
   ]
  },
  {
   "cell_type": "code",
   "execution_count": null,
   "id": "0a03c650",
   "metadata": {},
   "outputs": [],
   "source": []
  }
 ],
 "metadata": {
  "kernelspec": {
   "display_name": "Python 3 (ipykernel)",
   "language": "python",
   "name": "python3"
  },
  "language_info": {
   "codemirror_mode": {
    "name": "ipython",
    "version": 3
   },
   "file_extension": ".py",
   "mimetype": "text/x-python",
   "name": "python",
   "nbconvert_exporter": "python",
   "pygments_lexer": "ipython3",
   "version": "3.9.12"
  }
 },
 "nbformat": 4,
 "nbformat_minor": 5
}
